{
 "cells": [
  {
   "cell_type": "markdown",
   "metadata": {},
   "source": [
    "## Goal: Create a CNN to classify MNIST according to the following specifications:\n",
    "1. 2 layers of Convolution with filters having: Size of 1 X (5 X 5) X 6 and Size of 6 X (5 X 5) X 10\n",
    "2. For each layer, use ReLU\n",
    "3. After the second layer (and after ReLU), use Max Pooling\n",
    "4. Feed into a fully connected layer (FCC)\n",
    "\n",
    "The architecture should thus take the following form:\n",
    "\n",
    "6 Conv1 Filter(s) of size 1 X (5 X 5) ---> ReLU ---> 10 Conv1 Filter(s) of size 6 X (5 X 5) ---> ReLU ---> Max Pooling ---> FCC\n",
    "\n"
   ]
  },
  {
   "cell_type": "code",
   "execution_count": 1,
   "metadata": {},
   "outputs": [],
   "source": [
    "import torch\n",
    "from torch.autograd import Variable\n",
    "import numpy as np\n",
    "import matplotlib.pyplot as plt\n",
    "import torch.optim as optim\n",
    "import torchvision\n",
    "import torchvision.transforms as transforms\n",
    "import torch.nn as nn\n",
    "import torch.nn.functional as F"
   ]
  },
  {
   "cell_type": "code",
   "execution_count": 2,
   "metadata": {},
   "outputs": [],
   "source": [
    "transform = transforms.Compose([transforms.ToTensor(),\n",
    "                                transforms.Normalize((0.1307,), (0.3081,))  ])\n",
    "\n",
    "training_data = torchvision.datasets.MNIST(root = './data_MNIST',\n",
    "                                          download = True,\n",
    "                                          train = True, \n",
    "                                          transform = transform)\n",
    "\n",
    "test_data = torchvision.datasets.MNIST(root = './data_MNIST',\n",
    "                                          download = True,\n",
    "                                          train = False, \n",
    "                                          transform = transform)\n",
    "\n",
    "train_loader = torch.utils.data.DataLoader(training_data, \n",
    "                                          batch_size = 4,\n",
    "                                          shuffle = True,\n",
    "                                          num_workers = 2)\n",
    "\n",
    "test_loader = torch.utils.data.DataLoader(test_data, \n",
    "                                          batch_size = 4,\n",
    "                                          shuffle = False,\n",
    "                                          num_workers = 2)"
   ]
  },
  {
   "cell_type": "code",
   "execution_count": 91,
   "metadata": {},
   "outputs": [],
   "source": [
    "def show_image(img):\n",
    "    img = img*0.3081 + 0.1307\n",
    "    img = img.numpy()\n",
    "    plt.imshow(np.transpose(img,(1,2,0)))"
   ]
  },
  {
   "cell_type": "code",
   "execution_count": 4,
   "metadata": {},
   "outputs": [],
   "source": [
    "dataiter = iter(train_loader)\n",
    "img, labels = dataiter.next()"
   ]
  },
  {
   "cell_type": "code",
   "execution_count": 5,
   "metadata": {},
   "outputs": [
    {
     "name": "stdout",
     "output_type": "stream",
     "text": [
      "(3, 32, 122)\n",
      "tensor([4, 9, 6, 0])\n"
     ]
    },
    {
     "data": {
      "image/png": "[encoded data removed]",
      "text/plain": [
       "<Figure size 432x288 with 1 Axes>"
      ]
     },
     "metadata": {
      "needs_background": "light"
     },
     "output_type": "display_data"
    }
   ],
   "source": [
    "show_image(torchvision.utils.make_grid(img, nrow = 8))\n",
    "print(labels)"
   ]
  },
  {
   "cell_type": "code",
   "execution_count": 47,
   "metadata": {},
   "outputs": [],
   "source": [
    "class Net(nn.Module):\n",
    "    def __init__(self, filter1_width, filter1_height, filter1_depth, filter1_OC,\n",
    "                filter2_width, filter2_height, filter2_OC,\n",
    "                FCC_out):\n",
    "        super(Net,self).__init__()\n",
    "        self.C1 = nn.Conv2d(in_channels = filter1_depth, \n",
    "                           out_channels = filter1_OC,\n",
    "                           kernel_size = (filter1_height,filter1_width))\n",
    "        self.C2 = nn.Conv2d(in_channels = filter1_OC, \n",
    "                           out_channels = filter2_OC,\n",
    "                           kernel_size = (filter2_height,filter2_width))\n",
    "        self.MP = nn.MaxPool2d(kernel_size = 2)\n",
    "        self.FC_in_dim = (28 - filter1_height - filter2_height + 2)/2\n",
    "        self.FC = nn.Linear(int(filter2_OC * self.FC_in_dim**2)  ,FCC_out)\n",
    "        \n",
    "    def forward(self,x):\n",
    "        x = self.C1(x)\n",
    "        x = F.relu(x)\n",
    "        x = self.C2(x)\n",
    "        x = F.relu(x)\n",
    "        x = self.MP(x)\n",
    "        x = x.view(4,-1)\n",
    "        \n",
    "        x = self.FC(x)\n",
    "        return x"
   ]
  },
  {
   "cell_type": "code",
   "execution_count": 48,
   "metadata": {},
   "outputs": [],
   "source": [
    "net = Net(filter1_width = 5,\n",
    "          filter1_height = 5,\n",
    "          filter1_depth = 1, \n",
    "          filter1_OC = 6,\n",
    "          filter2_width = 5, \n",
    "          filter2_height = 5, \n",
    "          filter2_OC = 10,\n",
    "          FCC_out = 10)"
   ]
  },
  {
   "cell_type": "code",
   "execution_count": 49,
   "metadata": {},
   "outputs": [],
   "source": [
    "optimizer = optim.SGD(net.parameters(), lr = 0.003)"
   ]
  },
  {
   "cell_type": "code",
   "execution_count": 51,
   "metadata": {},
   "outputs": [],
   "source": [
    "loss_function = nn.CrossEntropyLoss()"
   ]
  },
  {
   "cell_type": "code",
   "execution_count": 69,
   "metadata": {},
   "outputs": [
    {
     "name": "stdout",
     "output_type": "stream",
     "text": [
      "i = 1999 Loss =  0.21443196414411067\n",
      "i = 3999 Loss =  0.13976263782382012\n",
      "i = 5999 Loss =  0.11365682709217072\n",
      "i = 7999 Loss =  0.11333127269148827\n",
      "i = 9999 Loss =  0.09668695504963398\n",
      "i = 11999 Loss =  0.08911011734604836\n",
      "i = 13999 Loss =  0.08637440752983093\n",
      "i = 1999 Loss =  0.06915174460411072\n",
      "i = 3999 Loss =  0.06547286403179169\n",
      "i = 5999 Loss =  0.07846287541091441\n",
      "i = 7999 Loss =  0.06009253522753716\n",
      "i = 9999 Loss =  0.06443985170125961\n",
      "i = 11999 Loss =  0.05203947052359581\n",
      "i = 13999 Loss =  0.06017330598831177\n"
     ]
    }
   ],
   "source": [
    "epoch = 2\n",
    "for j in range(epoch):\n",
    "    running_loss = 0\n",
    "    for i,data in enumerate(train_loader):\n",
    "        x, y = data\n",
    "        y_pred = net(x)\n",
    "        loss = loss_function(y_pred, y)\n",
    "        \n",
    "        optimizer.zero_grad()\n",
    "        loss.backward()\n",
    "        optimizer.step()\n",
    "        \n",
    "        running_loss = running_loss + float(loss)\n",
    "        \n",
    "        if i%2000 == 1999:\n",
    "            print('i =', i, 'Loss = ',running_loss/2000 )\n",
    "            running_loss = 0\n",
    "        \n",
    "        \n",
    "    "
   ]
  },
  {
   "cell_type": "code",
   "execution_count": 78,
   "metadata": {},
   "outputs": [],
   "source": [
    "#evalue our testing data:\n",
    "\n",
    "label_count = torch.zeros(10)\n",
    "correct_count = torch.zeros(10)\n",
    "\n",
    "for data in test_loader:\n",
    "    x, labels = data\n",
    "    pred_y = net(x)\n",
    "    _, pred_y = pred_y.max(1)\n",
    "    \n",
    "    c = torch.eq(pred_y, labels)\n",
    "    for j, label in enumerate(labels):\n",
    "        label_count[label] = label_count[label] + 1\n",
    "        correct_count[label] = correct_count[label] + c[j]\n",
    "    "
   ]
  },
  {
   "cell_type": "code",
   "execution_count": 86,
   "metadata": {},
   "outputs": [
    {
     "name": "stdout",
     "output_type": "stream",
     "text": [
      "Accuracy by Class:\n",
      "0 : 99.6 %\n",
      "1 : 99.4 %\n",
      "2 : 98.0 %\n",
      "3 : 99.0 %\n",
      "4 : 99.0 %\n",
      "5 : 98.7 %\n",
      "6 : 98.1 %\n",
      "7 : 98.4 %\n",
      "8 : 97.8 %\n",
      "9 : 96.3 %\n",
      "Overall Accuracy: 98.4 %\n"
     ]
    }
   ],
   "source": [
    "print('Accuracy by Class:')\n",
    "for i in range(10):\n",
    "    print(i,':', ((correct_count[i]/label_count[i]).numpy() * 100).round(1), '%')\n",
    "print('Overall Accuracy:', ((correct_count.sum()/label_count.sum()*100).numpy()).round(1), '%')"
   ]
  },
  {
   "cell_type": "code",
   "execution_count": 92,
   "metadata": {},
   "outputs": [
    {
     "name": "stdout",
     "output_type": "stream",
     "text": [
      "tensor([7, 2, 1, 0])\n"
     ]
    },
    {
     "data": {
      "image/png": "[encoded data removed]",
      "text/plain": [
       "<Figure size 432x288 with 1 Axes>"
      ]
     },
     "metadata": {
      "needs_background": "light"
     },
     "output_type": "display_data"
    }
   ],
   "source": [
    "for data in test_loader:\n",
    "    image, label = data\n",
    "    show_image(torchvision.utils.make_grid(image))\n",
    "    print(net(image).max(1)[1])\n",
    "    break"
   ]
  },
  {
   "cell_type": "code",
   "execution_count": 122,
   "metadata": {},
   "outputs": [
    {
     "data": {
      "text/plain": [
       "<matplotlib.colorbar.Colorbar at 0x7f0dd8be7860>"
      ]
     },
     "execution_count": 122,
     "metadata": {},
     "output_type": "execute_result"
    },
    {
     "data": {
      "image/png": "[encoded data removed]",
      "text/plain": [
       "<Figure size 432x288 with 2 Axes>"
      ]
     },
     "metadata": {
      "needs_background": "light"
     },
     "output_type": "display_data"
    }
   ],
   "source": [
    "#Visualising one of the filters\n",
    "\n",
    "plt.imshow(net.state_dict()['C1.weight'][1].numpy().squeeze(), cmap ='Greys')\n",
    "plt.colorbar()"
   ]
  }
 ],
 "metadata": {
  "kernelspec": {
   "display_name": "Python 3",
   "language": "python",
   "name": "python3"
  },
  "language_info": {
   "codemirror_mode": {
    "name": "ipython",
    "version": 3
   },
   "file_extension": ".py",
   "mimetype": "text/x-python",
   "name": "python",
   "nbconvert_exporter": "python",
   "pygments_lexer": "ipython3",
   "version": "3.7.0"
  }
 },
 "nbformat": 4,
 "nbformat_minor": 2
}
