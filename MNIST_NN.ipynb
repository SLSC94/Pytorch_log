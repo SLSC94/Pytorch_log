{
 "cells": [
  {
   "cell_type": "markdown",
   "metadata": {},
   "source": [
    "## Goal: Use a Neural Network with 1 hidden layer on the MNIST Dataset\n",
    "\n",
    "In this exercise, we will create a neural network, containing 1 hidden layer.\n",
    "\n",
    "Aims:\n",
    "1. Practice loading/saving a dataset from torchvision \n",
    "2. Processing data - normalizing/reshaping data\n",
    "3. Create a neural network\n",
    "4. Train a neural network\n",
    "5. Test a neural network\n",
    "6. Evaluate performance of the neural network\n",
    "\n",
    "Reference:\n",
    "\n",
    "https://pytorch.org/tutorials/beginner/blitz/neural_networks_tutorial.html#sphx-glr-beginner-blitz-neural-networks-tutorial-py"
   ]
  },
  {
   "cell_type": "code",
   "execution_count": 1,
   "metadata": {},
   "outputs": [],
   "source": [
    "import numpy as np\n",
    "import matplotlib.pyplot as plt\n",
    "import torch\n",
    "import torchvision\n",
    "import torchvision.transforms as transforms"
   ]
  },
  {
   "cell_type": "code",
   "execution_count": 2,
   "metadata": {},
   "outputs": [],
   "source": [
    "#Compose the transforms by first converting to tensor, then normalizing. \n",
    "transform = transforms.Compose([transforms.ToTensor(),\n",
    "                                transforms.Normalize((0.1307,), (0.3081,))  ])\n",
    "\n",
    "training_data = torchvision.datasets.MNIST(root = './data_MNIST',\n",
    "                                          train = True,\n",
    "                                          download = True,\n",
    "                                          transform = transform)\n",
    "\n",
    "test_data = torchvision.datasets.MNIST(root = './data_MNIST',\n",
    "                                      train = False,\n",
    "                                      download = True,\n",
    "                                      transform = transform)\n",
    "\n",
    "trainloader = torch.utils.data.DataLoader(training_data,\n",
    "                                          batch_size = 4,\n",
    "                                          shuffle = True,\n",
    "                                          num_workers = 2)\n",
    "\n",
    "testloader = torch.utils.data.DataLoader(test_data,\n",
    "                                      batch_size = 4,\n",
    "                                      shuffle = True,\n",
    "                                      num_workers = 2)\n"
   ]
  },
  {
   "cell_type": "code",
   "execution_count": 3,
   "metadata": {},
   "outputs": [],
   "source": [
    "def show_image(img):\n",
    "    img = img* 0.3081 + 0.1307\n",
    "    img = img.numpy()\n",
    "    plt.imshow(np.transpose(img, (1, 2, 0)))\n",
    "    #imshow takes in a matrix of dimension (m x n x 3)"
   ]
  },
  {
   "cell_type": "code",
   "execution_count": 4,
   "metadata": {},
   "outputs": [],
   "source": [
    "# get some random training images\n",
    "dataiter = iter(trainloader)\n",
    "images, labels = dataiter.next()"
   ]
  },
  {
   "cell_type": "code",
   "execution_count": 5,
   "metadata": {},
   "outputs": [
    {
     "data": {
      "image/png": "[encoded data removed]",
      "text/plain": [
       "<Figure size 432x288 with 1 Axes>"
      ]
     },
     "metadata": {
      "needs_background": "light"
     },
     "output_type": "display_data"
    }
   ],
   "source": [
    "show_image(torchvision.utils.make_grid(images, nrow = 8))"
   ]
  },
  {
   "cell_type": "code",
   "execution_count": 6,
   "metadata": {},
   "outputs": [],
   "source": [
    "from torch.autograd import Variable\n",
    "import torch.nn as nn\n",
    "import torch.nn.functional as F\n",
    "\n",
    "class Net(nn.Module):\n",
    "    def __init__(self, in_dim, hid_dim, out_dim):\n",
    "        super().__init__()\n",
    "        self.h1 = nn.Linear(in_dim, hid_dim)\n",
    "        self.h2 = nn.Linear(hid_dim, out_dim)\n",
    "        \n",
    "    def forward(self, x):\n",
    "        x = self.h1(x)\n",
    "        x = F.relu(x)\n",
    "        x = self.h2(x)\n",
    "        \n",
    "        return x\n"
   ]
  },
  {
   "cell_type": "code",
   "execution_count": 7,
   "metadata": {},
   "outputs": [],
   "source": [
    "import torch.optim as optim\n",
    "\n",
    "net = Net(in_dim = 28*28, hid_dim = 128, out_dim = 10)\n",
    "\n",
    "optimizer = optim.SGD(net.parameters(), lr = 0.005)\n",
    "\n",
    "loss = nn.CrossEntropyLoss()"
   ]
  },
  {
   "cell_type": "markdown",
   "metadata": {},
   "source": [
    "## Train the NN on the training data"
   ]
  },
  {
   "cell_type": "code",
   "execution_count": 8,
   "metadata": {},
   "outputs": [
    {
     "name": "stdout",
     "output_type": "stream",
     "text": [
      "iteration = 1999 ,loss = tensor(0.6046)\n",
      "iteration = 3999 ,loss = tensor(0.3265)\n",
      "iteration = 5999 ,loss = tensor(0.2555)\n",
      "iteration = 7999 ,loss = tensor(0.2511)\n",
      "iteration = 9999 ,loss = tensor(0.2063)\n",
      "iteration = 11999 ,loss = tensor(0.1955)\n",
      "iteration = 13999 ,loss = tensor(0.1765)\n",
      "iteration = 1999 ,loss = tensor(0.1538)\n",
      "iteration = 3999 ,loss = tensor(0.1295)\n",
      "iteration = 5999 ,loss = tensor(0.1400)\n",
      "iteration = 7999 ,loss = tensor(0.1253)\n",
      "iteration = 9999 ,loss = tensor(0.1313)\n",
      "iteration = 11999 ,loss = tensor(0.1083)\n",
      "iteration = 13999 ,loss = tensor(0.1061)\n"
     ]
    }
   ],
   "source": [
    "#set the number of epochs\n",
    "epochs = 2\n",
    "for epoch in range(epochs): \n",
    "    running_loss = 0.0\n",
    "    for i, data in enumerate(trainloader,0):\n",
    "        inputs,labels = data\n",
    "        inputs,labels = Variable(inputs), Variable(labels)\n",
    "        #reshaping the data to fit into the neural net\n",
    "        inputs = inputs.view(4,784)\n",
    "        #output of neural net\n",
    "        output = net(inputs)\n",
    "        #loss of output and label under crossentropy\n",
    "        cur_loss = loss(output, labels)\n",
    "        #zero the gradient buffers\n",
    "        optimizer.zero_grad()\n",
    "        #calculate gradients\n",
    "        cur_loss.backward()\n",
    "        #take a step back\n",
    "        optimizer.step()\n",
    "        \n",
    "        running_loss = running_loss + cur_loss\n",
    "        if i%2000 == 1999:\n",
    "            print('iteration =', i,',loss =', running_loss.data/2000)\n",
    "            running_loss = 0\n",
    "        \n",
    "        \n",
    "        \n",
    "        "
   ]
  },
  {
   "cell_type": "markdown",
   "metadata": {},
   "source": [
    "## We estimate the generalization error by testing on our test set"
   ]
  },
  {
   "cell_type": "code",
   "execution_count": 9,
   "metadata": {},
   "outputs": [],
   "source": [
    "correct = np.zeros(10)\n",
    "total = np.zeros(10)\n",
    "for i, data in enumerate(testloader,0):\n",
    "    inputs,labels = data\n",
    "    inputs,labels = Variable(inputs), Variable(labels)\n",
    "    #reshaping the data\n",
    "    inputs = inputs.view(4,784)\n",
    "    output = net(inputs)\n",
    "    output = output.max(1)[1]\n",
    "    for i in range(4):\n",
    "        if labels[i] == output[i]:\n",
    "            correct[labels[i]] = correct[labels[i]] + 1\n",
    "        total[labels[i]] = total[labels[i]] + 1\n"
   ]
  },
  {
   "cell_type": "code",
   "execution_count": 10,
   "metadata": {},
   "outputs": [
    {
     "name": "stdout",
     "output_type": "stream",
     "text": [
      "Accuracy for 0 : 98.6 %\n",
      "Accuracy for 1 : 99.0 %\n",
      "Accuracy for 2 : 98.4 %\n",
      "Accuracy for 3 : 96.3 %\n",
      "Accuracy for 4 : 94.8 %\n",
      "Accuracy for 5 : 97.3 %\n",
      "Accuracy for 6 : 97.2 %\n",
      "Accuracy for 7 : 96.3 %\n",
      "Accuracy for 8 : 93.9 %\n",
      "Accuracy for 9 : 95.7 %\n",
      "Overall Accuracy : 96.8 %\n"
     ]
    }
   ],
   "source": [
    "#accuracy for individual numbers\n",
    "for i in range(10):\n",
    "    print('Accuracy for',i ,':' ,np.round(correct[i]/total[i]*100,1) ,'%')\n",
    "#overall accuracy:\n",
    "print('Overall Accuracy :', np.round(np.sum(correct)/np.sum(total)*100,1), '%' )"
   ]
  },
  {
   "cell_type": "code",
   "execution_count": 13,
   "metadata": {},
   "outputs": [
    {
     "name": "stdout",
     "output_type": "stream",
     "text": [
      "prediction: [7 2 7 2]\n",
      "actual:     [7 2 7 2]\n"
     ]
    },
    {
     "data": {
      "image/png": "[encoded data removed]",
      "text/plain": [
       "<Figure size 432x288 with 1 Axes>"
      ]
     },
     "metadata": {
      "needs_background": "light"
     },
     "output_type": "display_data"
    }
   ],
   "source": [
    "# now print some results\n",
    "# get some random training images\n",
    "test_dataiter = iter(testloader)\n",
    "images, labels = test_dataiter.next()\n",
    "show_image(torchvision.utils.make_grid(images, nrow = 8))\n",
    "print('prediction:' , net(images.view(4,28*28)).max(1)[1].numpy() )\n",
    "print('actual:    ', labels.numpy())"
   ]
  },
  {
   "cell_type": "code",
   "execution_count": null,
   "metadata": {},
   "outputs": [],
   "source": []
  }
 ],
 "metadata": {
  "kernelspec": {
   "display_name": "Python 3",
   "language": "python",
   "name": "python3"
  },
  "language_info": {
   "codemirror_mode": {
    "name": "ipython",
    "version": 3
   },
   "file_extension": ".py",
   "mimetype": "text/x-python",
   "name": "python",
   "nbconvert_exporter": "python",
   "pygments_lexer": "ipython3",
   "version": "3.7.0"
  }
 },
 "nbformat": 4,
 "nbformat_minor": 2
}
