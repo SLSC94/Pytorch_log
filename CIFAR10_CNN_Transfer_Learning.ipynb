{
 "cells": [
  {
   "cell_type": "markdown",
   "metadata": {},
   "source": [
    "# Goal 1: Create a CNN Model1 to classify CIFAR according to the following specifications\n",
    "\n",
    "1. 2 layers of Convolution with filters having: Size of 1 X (5 X 5) X 6 and Size of 6 X (5 X 5) X 10\n",
    "2. For each layer, use ReLU\n",
    "3. After the second layer (and after ReLU), use Max Pooling\n",
    "4. Feed into a fully connected layer (FCC)\n",
    "\n",
    "The architecture should take the following form:\n",
    "\n",
    "6 Conv1 Filter(s) of size 1 X (5 X 5) ---> ReLU ---> 10 Conv1 Filter(s) of size 6 X (5 X 5) ---> ReLU ---> Max Pooling ---> FCC\n",
    "\n",
    "# Goal 2: Use the CNN Model1 for Transfer Learning \n",
    "\n",
    "1. Save the parameters from Model1 (up to the fully connected layer) \n",
    "2. Train the fully connected layer for classification of categories 0 and 1"
   ]
  },
  {
   "cell_type": "code",
   "execution_count": 1,
   "metadata": {},
   "outputs": [],
   "source": [
    "import torch\n",
    "from torch.autograd import Variable\n",
    "import numpy as np\n",
    "import matplotlib.pyplot as plt\n",
    "import torch.optim as optim\n",
    "import torchvision\n",
    "import torchvision.transforms as transforms\n",
    "import torch.nn as nn\n",
    "import torch.nn.functional as F"
   ]
  },
  {
   "cell_type": "code",
   "execution_count": 48,
   "metadata": {},
   "outputs": [
    {
     "name": "stdout",
     "output_type": "stream",
     "text": [
      "Files already downloaded and verified\n",
      "Files already downloaded and verified\n"
     ]
    }
   ],
   "source": [
    "transform = transforms.Compose([transforms.ToTensor()])#,\n",
    "#                                 transforms.Normalize((0.1307,), (0.3081,))  ])\n",
    "\n",
    "training_data = torchvision.datasets.CIFAR10(root = './data_CIFAR10',\n",
    "                                          download = True,\n",
    "                                          train = True, \n",
    "                                          transform = transform)\n",
    "\n",
    "test_data = torchvision.datasets.CIFAR10(root = './data_CIFAR10',\n",
    "                                          download = True,\n",
    "                                          train = False, \n",
    "                                          transform = transform)\n",
    "\n",
    "train_loader = torch.utils.data.DataLoader(training_data, \n",
    "                                          batch_size = 4,\n",
    "                                          shuffle = True,\n",
    "                                          num_workers = 2)\n",
    "\n",
    "test_loader = torch.utils.data.DataLoader(test_data, \n",
    "                                          batch_size = 4,\n",
    "                                          shuffle = False,\n",
    "                                          num_workers = 2)"
   ]
  },
  {
   "cell_type": "code",
   "execution_count": 10,
   "metadata": {},
   "outputs": [],
   "source": [
    "def show_image(img):\n",
    "    img = img\n",
    "    img = img.numpy()\n",
    "    plt.imshow(np.transpose(img,(1,2,0)))"
   ]
  },
  {
   "cell_type": "code",
   "execution_count": 11,
   "metadata": {},
   "outputs": [],
   "source": [
    "dataiter = iter(train_loader)\n",
    "img, labels = dataiter.next()"
   ]
  },
  {
   "cell_type": "code",
   "execution_count": 25,
   "metadata": {},
   "outputs": [
    {
     "name": "stdout",
     "output_type": "stream",
     "text": [
      "tensor([5, 5, 5, 6])\n"
     ]
    },
    {
     "data": {
      "text/plain": [
       "torch.Size([4, 3, 32, 32])"
      ]
     },
     "execution_count": 25,
     "metadata": {},
     "output_type": "execute_result"
    },
    {
     "data": {
      "image/png": "[encoded data removed]",
      "text/plain": [
       "<Figure size 432x288 with 1 Axes>"
      ]
     },
     "metadata": {
      "needs_background": "light"
     },
     "output_type": "display_data"
    }
   ],
   "source": [
    "show_image(torchvision.utils.make_grid(img, nrow = 8))\n",
    "print(labels)\n",
    "img.shape"
   ]
  },
  {
   "cell_type": "code",
   "execution_count": 26,
   "metadata": {},
   "outputs": [],
   "source": [
    "class Net(nn.Module):\n",
    "    def __init__(self, filter1_width, filter1_height, filter1_depth, filter1_OC,\n",
    "                filter2_width, filter2_height, filter2_OC,\n",
    "                FCC_out):\n",
    "        super(Net,self).__init__()\n",
    "        self.C1 = nn.Conv2d(in_channels = filter1_depth, \n",
    "                           out_channels = filter1_OC,\n",
    "                           kernel_size = (filter1_height,filter1_width))\n",
    "        self.C2 = nn.Conv2d(in_channels = filter1_OC, \n",
    "                           out_channels = filter2_OC,\n",
    "                           kernel_size = (filter2_height,filter2_width))\n",
    "        self.MP = nn.MaxPool2d(kernel_size = 2)\n",
    "        self.FC_in_dim = (32 - filter1_height - filter2_height + 2)/2\n",
    "        self.FC = nn.Linear(int(filter2_OC * self.FC_in_dim**2)  ,FCC_out)\n",
    "        \n",
    "    def forward(self,x):\n",
    "        x = self.C1(x)\n",
    "        x = F.relu(x)\n",
    "        x = self.C2(x)\n",
    "        x = F.relu(x)\n",
    "        x = self.MP(x)\n",
    "        x = x.view(4,-1)\n",
    "        \n",
    "        x = self.FC(x)\n",
    "        return x"
   ]
  },
  {
   "cell_type": "code",
   "execution_count": 28,
   "metadata": {},
   "outputs": [],
   "source": [
    "net = Net(filter1_width = 5,\n",
    "          filter1_height = 5,\n",
    "          filter1_depth = 3, \n",
    "          filter1_OC = 6,\n",
    "          filter2_width = 5, \n",
    "          filter2_height = 5, \n",
    "          filter2_OC = 10,\n",
    "          FCC_out = 10)"
   ]
  },
  {
   "cell_type": "code",
   "execution_count": 29,
   "metadata": {},
   "outputs": [],
   "source": [
    "optimizer = optim.SGD(net.parameters(), lr = 0.003)"
   ]
  },
  {
   "cell_type": "code",
   "execution_count": 30,
   "metadata": {},
   "outputs": [],
   "source": [
    "loss_function = nn.CrossEntropyLoss()"
   ]
  },
  {
   "cell_type": "code",
   "execution_count": 34,
   "metadata": {},
   "outputs": [
    {
     "name": "stdout",
     "output_type": "stream",
     "text": [
      "i = 1999 Loss =  1.3813225802332163\n",
      "i = 3999 Loss =  1.3949446150362492\n",
      "i = 5999 Loss =  1.3845300104022027\n",
      "i = 7999 Loss =  1.377676162198186\n",
      "i = 9999 Loss =  1.346815423861146\n",
      "i = 11999 Loss =  1.3778857464641332\n",
      "i = 1999 Loss =  1.3193471137583255\n",
      "i = 3999 Loss =  1.2944254727959632\n",
      "i = 5999 Loss =  1.305238520398736\n",
      "i = 7999 Loss =  1.2999474112689495\n",
      "i = 9999 Loss =  1.2781052700728177\n",
      "i = 11999 Loss =  1.2801065874248743\n"
     ]
    }
   ],
   "source": [
    "epoch = 2\n",
    "for j in range(epoch):\n",
    "    running_loss = 0\n",
    "    for i,data in enumerate(train_loader):\n",
    "        x, y = data\n",
    "        y_pred = net(x)\n",
    "        loss = loss_function(y_pred, y)\n",
    "        \n",
    "        optimizer.zero_grad()\n",
    "        loss.backward()\n",
    "        optimizer.step()\n",
    "        \n",
    "        running_loss = running_loss + float(loss)\n",
    "        \n",
    "        if i%2000 == 1999:\n",
    "            print('i =', i, 'Loss = ',running_loss/2000 )\n",
    "            running_loss = 0"
   ]
  },
  {
   "cell_type": "code",
   "execution_count": 35,
   "metadata": {},
   "outputs": [],
   "source": [
    "label_count = torch.zeros(10)\n",
    "correct_count = torch.zeros(10)\n",
    "\n",
    "for data in test_loader:\n",
    "    x, labels = data\n",
    "    pred_y = net(x)\n",
    "    _, pred_y = pred_y.max(1)\n",
    "    \n",
    "    c = torch.eq(pred_y, labels)\n",
    "    for j, label in enumerate(labels):\n",
    "        label_count[label] = label_count[label] + 1\n",
    "        correct_count[label] = correct_count[label] + c[j]\n",
    "    "
   ]
  },
  {
   "cell_type": "code",
   "execution_count": 36,
   "metadata": {},
   "outputs": [
    {
     "name": "stdout",
     "output_type": "stream",
     "text": [
      "Accuracy by Class:\n",
      "0 : 43.4 %\n",
      "1 : 48.3 %\n",
      "2 : 41.6 %\n",
      "3 : 35.7 %\n",
      "4 : 27.6 %\n",
      "5 : 49.0 %\n",
      "6 : 66.7 %\n",
      "7 : 64.4 %\n",
      "8 : 87.9 %\n",
      "9 : 58.4 %\n",
      "Overall Accuracy: 52.3 %\n"
     ]
    }
   ],
   "source": [
    "print('Accuracy by Class:')\n",
    "for i in range(10):\n",
    "    print(i,':', ((correct_count[i]/label_count[i]).numpy() * 100).round(1), '%')\n",
    "print('Overall Accuracy:', ((correct_count.sum()/label_count.sum()*100).numpy()).round(1), '%')"
   ]
  },
  {
   "cell_type": "markdown",
   "metadata": {},
   "source": [
    "## Save the parameters for comparison later"
   ]
  },
  {
   "cell_type": "code",
   "execution_count": 37,
   "metadata": {},
   "outputs": [],
   "source": [
    "torch.save(net.state_dict(), 'CIFAR10_CNN_before_transfer.pwf')"
   ]
  },
  {
   "cell_type": "markdown",
   "metadata": {},
   "source": [
    "## Print out some of the parameters for the layers before the FC layer"
   ]
  },
  {
   "cell_type": "markdown",
   "metadata": {},
   "source": [
    "Now extract two classes (say 0 and 1) from the training and testing data"
   ]
  },
  {
   "cell_type": "code",
   "execution_count": 168,
   "metadata": {},
   "outputs": [],
   "source": [
    "# Get the indices of the zeros and ones\n",
    "train_temp_indices = (np.array(training_data.train_labels) <= 1) * np.arange(len(training_data))\n",
    "train_temp_indices = train_temp_indices[train_temp_indices != 0]\n",
    "\n",
    "training_data_01 = torch.utils.data.Subset(training_data, train_temp_indices)\n",
    "\n",
    "test_temp_indices = (np.array(test_data.test_labels) <= 1) * np.arange(len(test_data))\n",
    "test_temp_indices = test_temp_indices[test_temp_indices != 0]\n",
    "\n",
    "test_data_01 = torch.utils.data.Subset(test_data, test_temp_indices)\n",
    "\n",
    "\n",
    "\n",
    "train_loader_01 = torch.utils.data.DataLoader(training_data_01, \n",
    "                                          batch_size = 4,\n",
    "                                          shuffle = True,\n",
    "                                          num_workers = 2)\n",
    "\n",
    "test_loader_01 = torch.utils.data.DataLoader(test_data_01, \n",
    "                                          batch_size = 4,\n",
    "                                          shuffle = False,\n",
    "                                          num_workers = 2)"
   ]
  },
  {
   "cell_type": "markdown",
   "metadata": {},
   "source": [
    "## Ensure that the parameters before the FC layer have not changed\n",
    "\n",
    "Print out the weight for one of the kernels to compare with later"
   ]
  },
  {
   "cell_type": "code",
   "execution_count": 173,
   "metadata": {},
   "outputs": [
    {
     "data": {
      "text/plain": [
       "array([[ 0.004, -0.164,  0.002, -0.105, -0.129],\n",
       "       [-0.246, -0.17 , -0.237, -0.193, -0.074],\n",
       "       [-0.217, -0.201, -0.217, -0.013, -0.029],\n",
       "       [-0.197, -0.146, -0.141,  0.067, -0.15 ],\n",
       "       [ 0.019,  0.105, -0.052,  0.073,  0.088]], dtype=float32)"
      ]
     },
     "execution_count": 173,
     "metadata": {},
     "output_type": "execute_result"
    }
   ],
   "source": [
    "net.state_dict()['C1.weight'][0][0].numpy().squeeze().round(3)"
   ]
  },
  {
   "cell_type": "code",
   "execution_count": 148,
   "metadata": {},
   "outputs": [],
   "source": [
    "for i,param in enumerate(net.parameters() ):\n",
    "    if i < 4:\n",
    "        param.requires_grad = False"
   ]
  },
  {
   "cell_type": "code",
   "execution_count": 158,
   "metadata": {},
   "outputs": [
    {
     "name": "stdout",
     "output_type": "stream",
     "text": [
      "i = 1999 Loss =  0.2220357438325882\n",
      "i = 1999 Loss =  0.21316622188687326\n",
      "i = 1999 Loss =  0.21224788546562195\n",
      "i = 1999 Loss =  0.2083808613717556\n",
      "i = 1999 Loss =  0.20638595950603486\n"
     ]
    }
   ],
   "source": [
    "epoch = 5\n",
    "for j in range(epoch):\n",
    "    running_loss = 0\n",
    "    for i,data in enumerate(train_loader_01):\n",
    "        x, y = data\n",
    "        y_pred = net(x)\n",
    "        loss = loss_function(y_pred, y)\n",
    "        \n",
    "        optimizer.zero_grad()\n",
    "        loss.backward()\n",
    "        optimizer.step()\n",
    "        \n",
    "        running_loss = running_loss + float(loss)\n",
    "        \n",
    "        if i%2000 == 1999:\n",
    "            print('i =', i, 'Loss = ',running_loss/2000 )\n",
    "            running_loss = 0\n",
    "        "
   ]
  },
  {
   "cell_type": "markdown",
   "metadata": {},
   "source": [
    "## The parameters before the FC layer have not changed."
   ]
  },
  {
   "cell_type": "code",
   "execution_count": 172,
   "metadata": {},
   "outputs": [
    {
     "data": {
      "text/plain": [
       "array([[ 0.004, -0.164,  0.002, -0.105, -0.129],\n",
       "       [-0.246, -0.17 , -0.237, -0.193, -0.074],\n",
       "       [-0.217, -0.201, -0.217, -0.013, -0.029],\n",
       "       [-0.197, -0.146, -0.141,  0.067, -0.15 ],\n",
       "       [ 0.019,  0.105, -0.052,  0.073,  0.088]], dtype=float32)"
      ]
     },
     "execution_count": 172,
     "metadata": {},
     "output_type": "execute_result"
    }
   ],
   "source": [
    "net.state_dict()['C1.weight'][0][0].numpy()squeeze().round(3)"
   ]
  },
  {
   "cell_type": "markdown",
   "metadata": {},
   "source": [
    "## Evaluate the test set"
   ]
  },
  {
   "cell_type": "code",
   "execution_count": 169,
   "metadata": {},
   "outputs": [],
   "source": [
    "label_count_01 = torch.zeros(2)\n",
    "correct_count_01 = torch.zeros(2)\n",
    "\n",
    "for data in test_loader_01:\n",
    "    x, labels = data\n",
    "    pred_y = net(x)\n",
    "    _, pred_y = pred_y.max(1)\n",
    "\n",
    "    c = torch.eq(pred_y, labels)\n",
    "    for j, label in enumerate(labels):\n",
    "        label_count_01[label] = label_count_01[label] + 1\n",
    "        correct_count_01[label] = correct_count_01[label] + c[j]\n",
    "    "
   ]
  },
  {
   "cell_type": "markdown",
   "metadata": {},
   "source": [
    "## As we can see below, simply by changing the FC layer we will be able to increase the accuracy for the first and second classes. "
   ]
  },
  {
   "cell_type": "code",
   "execution_count": 170,
   "metadata": {},
   "outputs": [
    {
     "name": "stdout",
     "output_type": "stream",
     "text": [
      "Accuracy by Class:\n",
      "0 : 89.4 %\n",
      "1 : 93.4 %\n",
      "Overall Accuracy: 91.4 %\n"
     ]
    }
   ],
   "source": [
    "print('Accuracy by Class:')\n",
    "for i in range(2):\n",
    "    print(i,':', ((correct_count_01[i]/label_count_01[i]).numpy() * 100).round(1), '%')\n",
    "print('Overall Accuracy:', ((correct_count_01.sum()/label_count_01.sum()*100).numpy()).round(1), '%')"
   ]
  },
  {
   "cell_type": "code",
   "execution_count": null,
   "metadata": {},
   "outputs": [],
   "source": []
  }
 ],
 "metadata": {
  "kernelspec": {
   "display_name": "Python 3",
   "language": "python",
   "name": "python3"
  },
  "language_info": {
   "codemirror_mode": {
    "name": "ipython",
    "version": 3
   },
   "file_extension": ".py",
   "mimetype": "text/x-python",
   "name": "python",
   "nbconvert_exporter": "python",
   "pygments_lexer": "ipython3",
   "version": "3.7.0"
  }
 },
 "nbformat": 4,
 "nbformat_minor": 2
}
